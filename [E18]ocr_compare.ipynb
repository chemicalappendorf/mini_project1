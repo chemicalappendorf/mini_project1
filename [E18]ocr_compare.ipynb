{
 "cells": [
  {
   "cell_type": "markdown",
   "metadata": {},
   "source": [
    "# 다양한 OCR모델 비교하기\n",
    "--------"
   ]
  },
  {
   "cell_type": "markdown",
   "metadata": {},
   "source": [
    "## Step1. 검증용 데이터셋 준비"
   ]
  },
  {
   "cell_type": "markdown",
   "metadata": {},
   "source": [
    "#### STEP 1) 구글의 파이썬 API 인터페이스 모듈을 아래와 설치합니다."
   ]
  },
  {
   "cell_type": "markdown",
   "metadata": {},
   "source": [
    "```python\n",
    "$ pip install --upgrade google-api-python-client\n",
    "$ pip install google-cloud-vision\n",
    "```"
   ]
  },
  {
   "cell_type": "markdown",
   "metadata": {},
   "source": [
    "#### STEP 2) Google Cloud Vision API 사용"
   ]
  },
  {
   "cell_type": "markdown",
   "metadata": {},
   "source": [
    "```python\n",
    "$ cp ~/Downloads/sheet-contents-xxxx.json ~/aiffel/ocr_python/my_google_api_key.json  \n",
    "```"
   ]
  },
  {
   "cell_type": "markdown",
   "metadata": {},
   "source": [
    "#### STEP 3) 인증키 경로 등록 후 커널 재기동     \n",
    "터미널을 열고 아래와 같이 인증키 경로 변수를 등록한 후 커널을 종료하고 재기동합니다. "
   ]
  },
  {
   "cell_type": "markdown",
   "metadata": {},
   "source": [
    "```python\n",
    "$ export GOOGLE_APPLICATION_CREDENTIALS=$HOME/aiffel/ocr_python/my_google_api_key.json\n",
    "$ echo \"export GOOGLE_APPLICATION_CREDENTIALS=$HOME/aiffel/ocr_python/my_google_api_key.json\" >> ~/.bashrc\n",
    "```"
   ]
  },
  {
   "cell_type": "markdown",
   "metadata": {},
   "source": [
    "#### STEP 4) API 사용 테스트"
   ]
  },
  {
   "cell_type": "code",
   "execution_count": 2,
   "metadata": {},
   "outputs": [],
   "source": [
    "def detect_text(path):\n",
    "    \"\"\"Detects text in the file.\"\"\"\n",
    "    from google.cloud import vision\n",
    "    import io\n",
    "    client = vision.ImageAnnotatorClient()\n",
    "\n",
    "    with io.open(path, 'rb') as image_file:\n",
    "        content = image_file.read()\n",
    "        \n",
    "    image = vision.Image(content=content)\n",
    "\n",
    "    response = client.text_detection(image=image)\n",
    "    texts = response.text_annotations\n",
    "    print('Texts:')\n",
    "\n",
    "    for text in texts:\n",
    "       print('\\n\"{}\"'.format(text.description))\n",
    "\n",
    "    vertices = (['({},{})'.format(vertex.x, vertex.y)\n",
    "                 for vertex in text.bounding_poly.vertices])\n",
    "\n",
    "    print('bounds: {}'.format(','.join(vertices)))\n",
    "\n",
    "    if response.error.message:\n",
    "        raise Exception(\n",
    "            '{}\\nFor more info on error messages, check: '\n",
    "            'https://cloud.google.com/apis/design/errors'.format(\n",
    "                response.error.message))"
   ]
  },
  {
   "cell_type": "code",
   "execution_count": 4,
   "metadata": {},
   "outputs": [
    {
     "name": "stdout",
     "output_type": "stream",
     "text": [
      "-rw-rw-r-- 1 aiffel aiffel 2352  3월 11 10:15 /home/aiffel/aiffel/ocr_python/my_google_api_key.json\n",
      "Texts:\n",
      "\n",
      "\"논문 공유 서비\n",
      "해외 유수의 대학과 기업은\n",
      "다양한 기술의 확대에 기여 중\n",
      "ArXiv\n",
      "MODULABS\n",
      "소스 코드 공유\n",
      "GitHub\n",
      "Stan\n",
      "ford\n",
      "MIT\n",
      "공유 문화의 형성\n",
      "→ 빠른 기술 발전\n",
      "Google\n",
      "Coursera\n",
      "stack\n",
      "overflow\n",
      "Udacity\n",
      "eDX\n",
      "Quora\n",
      "고품질 온라인 강의\n",
      "Reddit\n",
      "FB/\n",
      "Twitter\n",
      "지식 공유 소셜 서비스\n",
      "\"\n",
      "\n",
      "\"논문\"\n",
      "\n",
      "\"공유\"\n",
      "\n",
      "\"서비\"\n",
      "\n",
      "\"해외\"\n",
      "\n",
      "\"유수\"\n",
      "\n",
      "\"의\"\n",
      "\n",
      "\"대학\"\n",
      "\n",
      "\"과\"\n",
      "\n",
      "\"기업\"\n",
      "\n",
      "\"은\"\n",
      "\n",
      "\"다양한\"\n",
      "\n",
      "\"기술\"\n",
      "\n",
      "\"의\"\n",
      "\n",
      "\"확대\"\n",
      "\n",
      "\"에\"\n",
      "\n",
      "\"기여\"\n",
      "\n",
      "\"중\"\n",
      "\n",
      "\"ArXiv\"\n",
      "\n",
      "\"MODULABS\"\n",
      "\n",
      "\"소스\"\n",
      "\n",
      "\"코드\"\n",
      "\n",
      "\"공유\"\n",
      "\n",
      "\"GitHub\"\n",
      "\n",
      "\"Stan\"\n",
      "\n",
      "\"ford\"\n",
      "\n",
      "\"MIT\"\n",
      "\n",
      "\"공유\"\n",
      "\n",
      "\"문화\"\n",
      "\n",
      "\"의\"\n",
      "\n",
      "\"형성\"\n",
      "\n",
      "\"→\"\n",
      "\n",
      "\"빠른\"\n",
      "\n",
      "\"기술\"\n",
      "\n",
      "\"발전\"\n",
      "\n",
      "\"Google\"\n",
      "\n",
      "\"Coursera\"\n",
      "\n",
      "\"stack\"\n",
      "\n",
      "\"overflow\"\n",
      "\n",
      "\"Udacity\"\n",
      "\n",
      "\"eDX\"\n",
      "\n",
      "\"Quora\"\n",
      "\n",
      "\"고품질\"\n",
      "\n",
      "\"온라인\"\n",
      "\n",
      "\"강의\"\n",
      "\n",
      "\"Reddit\"\n",
      "\n",
      "\"FB/\"\n",
      "\n",
      "\"Twitter\"\n",
      "\n",
      "\"지식\"\n",
      "\n",
      "\"공유\"\n",
      "\n",
      "\"소셜\"\n",
      "\n",
      "\"서비스\"\n",
      "bounds: (1159,640),(1222,640),(1222,659),(1159,659)\n"
     ]
    }
   ],
   "source": [
    "# 다운받은 인증키 경로가 정확하게 지정되어 있어야 합니다. \n",
    "!ls -l $GOOGLE_APPLICATION_CREDENTIALS\n",
    "\n",
    "import os\n",
    "os.environ[\"GOOGLE_APPLICATION_CREDENTIALS\"] =  os.getenv('HOME')+'/aiffel/ocr_python/my_google_api_key.json'\n",
    "\n",
    "# 입력 이미지 경로를 지정해 주세요.\n",
    "# (예시) path = os.getenv('HOME')+'/aiffel/ocr_python/test_image.png'\n",
    "path = os.getenv('HOME')+'/aiffel/ocr_python/test_image.png'# [[YOUR IMAGE FILE PATH]]   \n",
    "\n",
    "# 위에서 정의한 OCR API 이용 함수를 호출해 봅시다.\n",
    "detect_text(path)"
   ]
  },
  {
   "cell_type": "code",
   "execution_count": null,
   "metadata": {},
   "outputs": [],
   "source": []
  }
 ],
 "metadata": {
  "kernelspec": {
   "display_name": "Python 3",
   "language": "python",
   "name": "python3"
  },
  "language_info": {
   "codemirror_mode": {
    "name": "ipython",
    "version": 3
   },
   "file_extension": ".py",
   "mimetype": "text/x-python",
   "name": "python",
   "nbconvert_exporter": "python",
   "pygments_lexer": "ipython3",
   "version": "3.7.6"
  }
 },
 "nbformat": 4,
 "nbformat_minor": 4
}
