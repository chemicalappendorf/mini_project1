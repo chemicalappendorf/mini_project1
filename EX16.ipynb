{
 "cells": [
  {
   "cell_type": "code",
   "execution_count": 1,
   "metadata": {},
   "outputs": [
    {
     "name": "stdout",
     "output_type": "stream",
     "text": [
      "Requirement already satisfied: tensorflow-datasets in /home/aiffel/anaconda3/lib/python3.7/site-packages (4.2.0)\n",
      "Requirement already satisfied: tensorflow-metadata in /home/aiffel/anaconda3/lib/python3.7/site-packages (from tensorflow-datasets) (0.28.0)\n",
      "Requirement already satisfied: absl-py in /home/aiffel/anaconda3/lib/python3.7/site-packages (from tensorflow-datasets) (0.10.0)\n",
      "Requirement already satisfied: promise in /home/aiffel/anaconda3/lib/python3.7/site-packages (from tensorflow-datasets) (2.3)\n",
      "Requirement already satisfied: requests>=2.19.0 in /home/aiffel/anaconda3/lib/python3.7/site-packages (from tensorflow-datasets) (2.22.0)\n",
      "Requirement already satisfied: numpy in /home/aiffel/anaconda3/lib/python3.7/site-packages (from tensorflow-datasets) (1.18.1)\n",
      "Requirement already satisfied: dill in /home/aiffel/anaconda3/lib/python3.7/site-packages (from tensorflow-datasets) (0.3.3)\n",
      "Requirement already satisfied: importlib-resources in /home/aiffel/anaconda3/lib/python3.7/site-packages (from tensorflow-datasets) (5.1.1)\n",
      "Requirement already satisfied: termcolor in /home/aiffel/anaconda3/lib/python3.7/site-packages (from tensorflow-datasets) (1.1.0)\n",
      "Requirement already satisfied: attrs>=18.1.0 in /home/aiffel/anaconda3/lib/python3.7/site-packages (from tensorflow-datasets) (19.3.0)\n",
      "Requirement already satisfied: typing-extensions in /home/aiffel/anaconda3/lib/python3.7/site-packages (from tensorflow-datasets) (3.7.4.3)\n",
      "Requirement already satisfied: future in /home/aiffel/anaconda3/lib/python3.7/site-packages (from tensorflow-datasets) (0.18.2)\n",
      "Requirement already satisfied: protobuf>=3.12.2 in /home/aiffel/anaconda3/lib/python3.7/site-packages (from tensorflow-datasets) (3.13.0)\n",
      "Requirement already satisfied: tqdm in /home/aiffel/anaconda3/lib/python3.7/site-packages (from tensorflow-datasets) (4.42.1)\n",
      "Requirement already satisfied: six in /home/aiffel/anaconda3/lib/python3.7/site-packages (from tensorflow-datasets) (1.14.0)\n",
      "Requirement already satisfied: setuptools in /home/aiffel/anaconda3/lib/python3.7/site-packages (from protobuf>=3.12.2->tensorflow-datasets) (45.2.0.post20200210)\n",
      "Requirement already satisfied: idna<2.9,>=2.5 in /home/aiffel/anaconda3/lib/python3.7/site-packages (from requests>=2.19.0->tensorflow-datasets) (2.8)\n",
      "Requirement already satisfied: urllib3!=1.25.0,!=1.25.1,<1.26,>=1.21.1 in /home/aiffel/anaconda3/lib/python3.7/site-packages (from requests>=2.19.0->tensorflow-datasets) (1.25.8)\n",
      "Requirement already satisfied: certifi>=2017.4.17 in /home/aiffel/anaconda3/lib/python3.7/site-packages (from requests>=2.19.0->tensorflow-datasets) (2019.11.28)\n",
      "Requirement already satisfied: chardet<3.1.0,>=3.0.2 in /home/aiffel/anaconda3/lib/python3.7/site-packages (from requests>=2.19.0->tensorflow-datasets) (3.0.4)\n",
      "Requirement already satisfied: zipp>=0.4 in /home/aiffel/anaconda3/lib/python3.7/site-packages (from importlib-resources->tensorflow-datasets) (2.2.0)\n",
      "Requirement already satisfied: googleapis-common-protos<2,>=1.52.0 in /home/aiffel/anaconda3/lib/python3.7/site-packages (from tensorflow-metadata->tensorflow-datasets) (1.53.0)\n",
      "Note: you may need to restart the kernel to use updated packages.\n"
     ]
    }
   ],
   "source": [
    "pip install tensorflow-datasets"
   ]
  },
  {
   "cell_type": "code",
   "execution_count": 1,
   "metadata": {},
   "outputs": [
    {
     "name": "stdout",
     "output_type": "stream",
     "text": [
      "\u001b[1mDownloading and preparing dataset 3.97 GiB (download: 3.97 GiB, generated: Unknown size, total: 3.97 GiB) to /home/aiffel/tensorflow_datasets/div2k/bicubic_x4/2.0.0...\u001b[0m\n",
      "EXTRACTING {'train_lr_url': 'https://data.vision.ee.ethz.ch/cvl/DIV2K/DIV2K_train_LR_bicubic_X4.zip', 'valid_lr_url': 'https://data.vision.ee.ethz.ch/cvl/DIV2K/DIV2K_valid_LR_bicubic_X4.zip', 'train_hr_url': 'https://data.vision.ee.ethz.ch/cvl/DIV2K/DIV2K_train_HR.zip', 'valid_hr_url': 'https://data.vision.ee.ethz.ch/cvl/DIV2K/DIV2K_valid_HR.zip'}\n"
     ]
    },
    {
     "data": {
      "application/vnd.jupyter.widget-view+json": {
       "model_id": "219ee5c2a8bf40fca863e19fd0590341",
       "version_major": 2,
       "version_minor": 0
      },
      "text/plain": [
       "HBox(children=(FloatProgress(value=1.0, bar_style='info', description='Dl Completed...', max=1.0, style=Progre…"
      ]
     },
     "metadata": {},
     "output_type": "display_data"
    },
    {
     "data": {
      "application/vnd.jupyter.widget-view+json": {
       "model_id": "f54fcc80e9554761bd00cf66929b31fa",
       "version_major": 2,
       "version_minor": 0
      },
      "text/plain": [
       "HBox(children=(FloatProgress(value=1.0, bar_style='info', description='Dl Size...', max=1.0, style=ProgressSty…"
      ]
     },
     "metadata": {},
     "output_type": "display_data"
    },
    {
     "data": {
      "application/vnd.jupyter.widget-view+json": {
       "model_id": "c8588d07bcab4c849af2b089df12756f",
       "version_major": 2,
       "version_minor": 0
      },
      "text/plain": [
       "HBox(children=(FloatProgress(value=1.0, bar_style='info', description='Extraction completed...', max=1.0, styl…"
      ]
     },
     "metadata": {},
     "output_type": "display_data"
    },
    {
     "name": "stdout",
     "output_type": "stream",
     "text": [
      "\n",
      "\n",
      "\n",
      "\n",
      "\n",
      "\n"
     ]
    },
    {
     "data": {
      "application/vnd.jupyter.widget-view+json": {
       "model_id": "",
       "version_major": 2,
       "version_minor": 0
      },
      "text/plain": [
       "HBox(children=(FloatProgress(value=0.0, description='Generating splits...', max=2.0, style=ProgressStyle(descr…"
      ]
     },
     "metadata": {},
     "output_type": "display_data"
    },
    {
     "data": {
      "application/vnd.jupyter.widget-view+json": {
       "model_id": "",
       "version_major": 2,
       "version_minor": 0
      },
      "text/plain": [
       "HBox(children=(FloatProgress(value=0.0, description='Generating train examples...', max=800.0, style=ProgressS…"
      ]
     },
     "metadata": {},
     "output_type": "display_data"
    },
    {
     "data": {
      "application/vnd.jupyter.widget-view+json": {
       "model_id": "",
       "version_major": 2,
       "version_minor": 0
      },
      "text/plain": [
       "HBox(children=(FloatProgress(value=0.0, description='Shuffling div2k-train.tfrecord...', max=800.0, style=Prog…"
      ]
     },
     "metadata": {},
     "output_type": "display_data"
    },
    {
     "data": {
      "application/vnd.jupyter.widget-view+json": {
       "model_id": "",
       "version_major": 2,
       "version_minor": 0
      },
      "text/plain": [
       "HBox(children=(FloatProgress(value=0.0, description='Generating validation examples...', style=ProgressStyle(d…"
      ]
     },
     "metadata": {},
     "output_type": "display_data"
    },
    {
     "data": {
      "application/vnd.jupyter.widget-view+json": {
       "model_id": "",
       "version_major": 2,
       "version_minor": 0
      },
      "text/plain": [
       "HBox(children=(FloatProgress(value=0.0, description='Shuffling div2k-validation.tfrecord...', style=ProgressSt…"
      ]
     },
     "metadata": {},
     "output_type": "display_data"
    },
    {
     "name": "stdout",
     "output_type": "stream",
     "text": [
      "\r",
      "\u001b[1mDataset div2k downloaded and prepared to /home/aiffel/tensorflow_datasets/div2k/bicubic_x4/2.0.0. Subsequent calls will reuse this data.\u001b[0m\n"
     ]
    },
    {
     "data": {
      "text/plain": [
       "{Split('train'): <PrefetchDataset shapes: {hr: (None, None, 3), lr: (None, None, 3)}, types: {hr: tf.uint8, lr: tf.uint8}>,\n",
       " Split('validation'): <PrefetchDataset shapes: {hr: (None, None, 3), lr: (None, None, 3)}, types: {hr: tf.uint8, lr: tf.uint8}>}"
      ]
     },
     "execution_count": 1,
     "metadata": {},
     "output_type": "execute_result"
    }
   ],
   "source": [
    "import tensorflow_datasets as tfds \n",
    "tfds.load(\"div2k/bicubic_x4\")"
   ]
  },
  {
   "cell_type": "code",
   "execution_count": null,
   "metadata": {},
   "outputs": [],
   "source": []
  }
 ],
 "metadata": {
  "kernelspec": {
   "display_name": "Python 3",
   "language": "python",
   "name": "python3"
  },
  "language_info": {
   "codemirror_mode": {
    "name": "ipython",
    "version": 3
   },
   "file_extension": ".py",
   "mimetype": "text/x-python",
   "name": "python",
   "nbconvert_exporter": "python",
   "pygments_lexer": "ipython3",
   "version": "3.7.6"
  }
 },
 "nbformat": 4,
 "nbformat_minor": 4
}
