{
 "cells": [
  {
   "cell_type": "markdown",
   "metadata": {},
   "source": [
    "# 인공지능 작사가 만들기\n",
    "----------"
   ]
  },
  {
   "cell_type": "markdown",
   "metadata": {},
   "source": [
    "## Step 1. 데이터 다운로드"
   ]
  },
  {
   "cell_type": "markdown",
   "metadata": {},
   "source": [
    "```python\n",
    "$ wget https://aiffelstaticprd.blob.core.windows.net/media/documents/song_lyrics.zip\n",
    "$ unzip song_lyrics.zip -d ~/aiffel/lyricist/data/lyrics  #lyrics 폴더에 압축풀기\n",
    "```"
   ]
  },
  {
   "cell_type": "markdown",
   "metadata": {},
   "source": [
    "## Step 2. 데이터 읽어오기"
   ]
  },
  {
   "cell_type": "code",
   "execution_count": 4,
   "metadata": {},
   "outputs": [
    {
     "name": "stdout",
     "output_type": "stream",
     "text": [
      "데이터 크기: 187088\n",
      "Examples:\n",
      " ['Load up on guns, bring your friends', \"It's fun to lose and to pretend\", \"She's over-bored and self-assured\"]\n"
     ]
    }
   ],
   "source": [
    "import glob\n",
    "import os\n",
    "\n",
    "txt_file_path = os.getenv('HOME')+'/aiffel/lyricist/data/lyrics/*'\n",
    "\n",
    "txt_list = glob.glob(txt_file_path)\n",
    "\n",
    "raw_corpus = []\n",
    "\n",
    "# 여러개의 txt 파일을 모두 읽어서 raw_corpus 에 담습니다.\n",
    "for txt_file in txt_list:\n",
    "    with open(txt_file, \"r\") as f:\n",
    "        raw = f.read().splitlines()\n",
    "        raw_corpus.extend(raw)\n",
    "\n",
    "print(\"데이터 크기:\", len(raw_corpus))\n",
    "print(\"Examples:\\n\", raw_corpus[:3])"
   ]
  },
  {
   "cell_type": "markdown",
   "metadata": {},
   "source": [
    "## Step 3. 데이터 정제"
   ]
  },
  {
   "cell_type": "code",
   "execution_count": 5,
   "metadata": {},
   "outputs": [
    {
     "name": "stdout",
     "output_type": "stream",
     "text": [
      "<start> this is sample sentence . <end>\n"
     ]
    }
   ],
   "source": [
    "import re                  # 정규표현식을 위한 Regex 지원 모듈 (문장 데이터를 정돈하기 위해) \n",
    "import numpy as np         # 변환된 문장 데이터(행렬)을 편하게 처리하기 위해\n",
    "import tensorflow as tf    # 대망의 텐서플로우!\n",
    "import os\n",
    "\n",
    "\n",
    "def preprocess_sentence(sentence):\n",
    "    sentence = sentence.lower().strip()       # 소문자로 바꾸고 양쪽 공백을 삭제\n",
    "  \n",
    "    # 아래 3단계를 거쳐 sentence는 스페이스 1개를 delimeter로 하는 소문자 단어 시퀀스로 바뀝니다.\n",
    "    sentence = re.sub(r\"([?.!,¿])\", r\" \\1 \", sentence)        # 패턴의 특수문자를 만나면 특수문자 양쪽에 공백을 추가\n",
    "    sentence = re.sub(r'[\" \"]+', \" \", sentence)                  # 공백 패턴을 만나면 스페이스 1개로 치환\n",
    "    sentence = re.sub(r\"[^a-zA-Z?.!,¿]+\", \" \", sentence)  # a-zA-Z?.!,¿ 패턴을 제외한 모든 문자(공백문자까지도)를 스페이스 1개로 치환\n",
    "\n",
    "    sentence = sentence.strip()\n",
    "\n",
    "    sentence = '<start> ' + sentence + ' <end>'      # 이전 스텝에서 본 것처럼 문장 앞뒤로 <start>와 <end>를 단어처럼 붙여 줍니다\n",
    "    \n",
    "    return sentence\n",
    "\n",
    "print(preprocess_sentence(\"This @_is ;;;sample        sentence.\"))   # 이 문장이 어떻게 필터링되는지 확인해 보세요."
   ]
  },
  {
   "cell_type": "code",
   "execution_count": 6,
   "metadata": {},
   "outputs": [
    {
     "data": {
      "text/plain": [
       "['<start> load up on guns , bring your friends <end>',\n",
       " '<start> it s fun to lose and to pretend <end>',\n",
       " '<start> she s over bored and self assured <end>',\n",
       " '<start> oh no , i know a dirty word hello , hello , hello , how low <end>',\n",
       " '<start> hello , hello , hello , how low <end>',\n",
       " '<start> hello , hello , hello , how low <end>',\n",
       " '<start> hello , hello , hello with the lights out , it s less dangerous <end>',\n",
       " '<start> here we are now , entertain us <end>',\n",
       " '<start> i feel stupid and contagious <end>',\n",
       " '<start> here we are now , entertain us <end>']"
      ]
     },
     "execution_count": 6,
     "metadata": {},
     "output_type": "execute_result"
    }
   ],
   "source": [
    "corpus = []\n",
    "\n",
    "for sentence in raw_corpus:\n",
    "    if len(sentence) == 0: continue\n",
    "    if sentence[-1] == \":\": continue\n",
    "        \n",
    "    corpus.append(preprocess_sentence(sentence))\n",
    "        \n",
    "corpus[:10]"
   ]
  },
  {
   "cell_type": "code",
   "execution_count": 11,
   "metadata": {},
   "outputs": [
    {
     "name": "stdout",
     "output_type": "stream",
     "text": [
      "[[   2 2347   29 ...    0    0    0]\n",
      " [   2   11   16 ...    0    0    0]\n",
      " [   2   48   16 ...    0    0    0]\n",
      " ...\n",
      " [   2    9  150 ...    0    0    0]\n",
      " [   2    8    9 ...    0    0    0]\n",
      " [   2    6 3239 ...    0    0    0]] <keras_preprocessing.text.Tokenizer object at 0x7f1546845f90>\n"
     ]
    }
   ],
   "source": [
    "def tokenize(corpus):\n",
    "    # 텐서플로우에서 제공하는 Tokenizer 패키지를 생성\n",
    "    tokenizer = tf.keras.preprocessing.text.Tokenizer(\n",
    "        num_words=12000,  # 전체 단어의 개수 \n",
    "        filters=' ',    # 별도로 전처리 로직을 추가할 수 있습니다. 이번에는 사용하지 않겠습니다.\n",
    "        oov_token=\"<unk>\"  # out-of-vocabulary, 사전에 없었던 단어는 어떤 토큰으로 대체할지\n",
    "    )\n",
    "    tokenizer.fit_on_texts(corpus)   # 우리가 구축한 corpus로부터 Tokenizer가 사전을 자동구축하게 됩니다.\n",
    "\n",
    "    # 이후 tokenizer를 활용하여 모델에 입력할 데이터셋을 구축하게 됩니다.\n",
    "    tensor = tokenizer.texts_to_sequences(corpus)   # tokenizer는 구축한 사전으로부터 corpus를 해석해 Tensor로 변환합니다.\n",
    "\n",
    "    # 입력 데이터의 시퀀스 길이를 일정하게 맞추기 위한 padding  메소드를 제공합니다.\n",
    "    # maxlen의 디폴트값은 None입니다. 이 경우 corpus의 가장 긴 문장을 기준으로 시퀀스 길이가 맞춰집니다.\n",
    "    tensor = tf.keras.preprocessing.sequence.pad_sequences(tensor, padding='post', maxlen=15)  \n",
    "\n",
    "    print(tensor,tokenizer)\n",
    "    return tensor, tokenizer\n",
    "\n",
    "tensor, tokenizer = tokenize(corpus)"
   ]
  },
  {
   "cell_type": "code",
   "execution_count": 12,
   "metadata": {},
   "outputs": [
    {
     "data": {
      "text/plain": [
       "<BatchDataset shapes: ((256, 14), (256, 14)), types: (tf.int32, tf.int32)>"
      ]
     },
     "execution_count": 12,
     "metadata": {},
     "output_type": "execute_result"
    }
   ],
   "source": [
    "src_input = tensor[:, :-1]  # tensor에서 마지막 토큰을 잘라내서 소스 문장을 생성합니다. 마지막 토큰은 <end>가 아니라 <pad>일 가능성이 높습니다.\n",
    "tgt_input = tensor[:, 1:]    # tensor에서 <start>를 잘라내서 타겟 문장을 생성합니다.\n",
    "\n",
    "BUFFER_SIZE = len(src_input)\n",
    "BATCH_SIZE = 256\n",
    "steps_per_epoch = len(src_input) // BATCH_SIZE\n",
    "\n",
    "VOCAB_SIZE = tokenizer.num_words + 1    # tokenizer가 구축한 단어사전 내 7000개와, 여기 포함되지 않은 0:<pad>를 포함하여 7001개\n",
    "\n",
    "dataset = tf.data.Dataset.from_tensor_slices((src_input, tgt_input)).shuffle(BUFFER_SIZE)\n",
    "dataset = dataset.batch(BATCH_SIZE, drop_remainder=True)\n",
    "dataset"
   ]
  },
  {
   "cell_type": "markdown",
   "metadata": {},
   "source": [
    "## Step 4. 평가 데이터셋 분리"
   ]
  },
  {
   "cell_type": "code",
   "execution_count": 13,
   "metadata": {},
   "outputs": [],
   "source": [
    "from sklearn.model_selection import train_test_split\n",
    "\n",
    "enc_train, enc_val, dec_train, dec_val = train_test_split(src_input, \n",
    "                                                                tgt_input, \n",
    "                                                                test_size=0.2,\n",
    "                                                                shuffle=True)"
   ]
  },
  {
   "cell_type": "code",
   "execution_count": 14,
   "metadata": {},
   "outputs": [
    {
     "name": "stdout",
     "output_type": "stream",
     "text": [
      "Source Train: (140599, 14)\n",
      "Target Train: (140599, 14)\n"
     ]
    }
   ],
   "source": [
    "print(\"Source Train:\", enc_train.shape)\n",
    "print(\"Target Train:\", dec_train.shape)"
   ]
  },
  {
   "cell_type": "markdown",
   "metadata": {},
   "source": [
    "## Step 5. 인공지능 만들기"
   ]
  },
  {
   "cell_type": "code",
   "execution_count": 16,
   "metadata": {},
   "outputs": [],
   "source": [
    "class TextGenerator(tf.keras.Model):\n",
    "    def __init__(self, vocab_size, embedding_size, hidden_size):\n",
    "        super(TextGenerator, self).__init__()\n",
    "        \n",
    "        self.embedding = tf.keras.layers.Embedding(vocab_size, embedding_size)\n",
    "        self.rnn_1 = tf.keras.layers.LSTM(hidden_size, return_sequences=True)\n",
    "        self.rnn_2 = tf.keras.layers.LSTM(hidden_size, return_sequences=True)\n",
    "        self.linear = tf.keras.layers.Dense(vocab_size)\n",
    "        \n",
    "    def call(self, x):\n",
    "        out = self.embedding(x)\n",
    "        out = self.rnn_1(out)\n",
    "        out = self.rnn_2(out)\n",
    "        out = self.linear(out)\n",
    "        \n",
    "        return out\n",
    "    \n",
    "embedding_size = 256\n",
    "hidden_size = 1024\n",
    "model = TextGenerator(tokenizer.num_words + 1, embedding_size , hidden_size)"
   ]
  },
  {
   "cell_type": "code",
   "execution_count": 17,
   "metadata": {},
   "outputs": [
    {
     "data": {
      "text/plain": [
       "<tf.Tensor: shape=(256, 14, 12001), dtype=float32, numpy=\n",
       "array([[[-7.2590018e-07,  5.5863009e-05,  3.2944918e-05, ...,\n",
       "         -2.6253267e-04, -4.9867592e-04, -1.5287944e-04],\n",
       "        [-2.0553951e-05,  5.0189898e-05,  7.6599419e-05, ...,\n",
       "         -4.9186649e-04, -5.6189951e-04, -1.1026534e-04],\n",
       "        [ 2.6264859e-04,  2.6532135e-04, -9.6551264e-07, ...,\n",
       "         -3.8864498e-04, -5.9992331e-04, -1.2942370e-04],\n",
       "        ...,\n",
       "        [ 1.6138203e-05, -4.5740348e-04, -9.8037347e-04, ...,\n",
       "          4.6476186e-04, -2.0236234e-04, -2.0494222e-04],\n",
       "        [ 1.5961687e-04, -8.1279711e-04, -7.5418164e-04, ...,\n",
       "          8.1015105e-04, -1.3280784e-04,  5.2590269e-05],\n",
       "        [ 9.3774150e-05, -1.0591306e-03, -3.9921596e-04, ...,\n",
       "          1.1775694e-03,  1.3240543e-04,  2.1510979e-04]],\n",
       "\n",
       "       [[-7.2590018e-07,  5.5863009e-05,  3.2944918e-05, ...,\n",
       "         -2.6253267e-04, -4.9867592e-04, -1.5287944e-04],\n",
       "        [ 7.0765673e-05, -1.3177624e-04,  8.8938228e-05, ...,\n",
       "         -2.0049297e-04, -7.2333333e-04, -2.2446358e-04],\n",
       "        [ 1.7479222e-04, -3.3078229e-04,  1.3119943e-04, ...,\n",
       "         -4.1194030e-04, -1.0440015e-03, -2.6435757e-04],\n",
       "        ...,\n",
       "        [ 1.0842086e-03,  2.6560845e-03,  1.5797827e-04, ...,\n",
       "          2.2144676e-03,  2.2159254e-03, -9.8580762e-04],\n",
       "        [ 1.1287453e-03,  3.0149475e-03,  3.2558676e-04, ...,\n",
       "          2.6214367e-03,  2.5404249e-03, -9.2580059e-04],\n",
       "        [ 1.1831670e-03,  3.3050871e-03,  5.0279673e-04, ...,\n",
       "          2.9466832e-03,  2.8149199e-03, -8.6659915e-04]],\n",
       "\n",
       "       [[-7.2590018e-07,  5.5863009e-05,  3.2944918e-05, ...,\n",
       "         -2.6253267e-04, -4.9867592e-04, -1.5287944e-04],\n",
       "        [ 2.1640002e-04,  1.3637920e-04,  7.5807478e-08, ...,\n",
       "         -3.8115430e-04, -1.1187716e-03, -1.6704114e-04],\n",
       "        [ 1.3913504e-05,  2.0478563e-04, -6.1845554e-07, ...,\n",
       "         -3.7995240e-04, -9.9059765e-04, -1.9736460e-04],\n",
       "        ...,\n",
       "        [ 1.1878423e-03,  8.8479042e-05, -9.7169061e-05, ...,\n",
       "          7.3210412e-04,  1.9551422e-03, -8.0769160e-04],\n",
       "        [ 1.3092465e-03,  6.3823961e-04, -1.6048530e-04, ...,\n",
       "          1.2710756e-03,  2.3271535e-03, -8.6710160e-04],\n",
       "        [ 1.3894078e-03,  1.1929547e-03, -1.3893862e-04, ...,\n",
       "          1.7818012e-03,  2.6471850e-03, -8.7692711e-04]],\n",
       "\n",
       "       ...,\n",
       "\n",
       "       [[-7.2590018e-07,  5.5863009e-05,  3.2944918e-05, ...,\n",
       "         -2.6253267e-04, -4.9867592e-04, -1.5287944e-04],\n",
       "        [-7.7668090e-05,  2.0797706e-04, -3.1125168e-05, ...,\n",
       "         -3.7465122e-04, -7.2148902e-04, -3.8147077e-04],\n",
       "        [-1.8561698e-04,  1.8899927e-04,  1.2603027e-04, ...,\n",
       "         -5.1590754e-04, -5.2526430e-04, -4.5724551e-04],\n",
       "        ...,\n",
       "        [ 7.8156171e-04,  2.2870163e-03,  5.3369341e-04, ...,\n",
       "          2.8029201e-03,  2.5780697e-03, -9.9970994e-04],\n",
       "        [ 8.7959936e-04,  2.6090876e-03,  6.6417293e-04, ...,\n",
       "          3.1072435e-03,  2.8522711e-03, -9.1720943e-04],\n",
       "        [ 9.8529435e-04,  2.8828077e-03,  7.9931621e-04, ...,\n",
       "          3.3399626e-03,  3.0759510e-03, -8.4310817e-04]],\n",
       "\n",
       "       [[-7.2590018e-07,  5.5863009e-05,  3.2944918e-05, ...,\n",
       "         -2.6253267e-04, -4.9867592e-04, -1.5287944e-04],\n",
       "        [ 1.4099131e-04, -5.8201436e-05,  2.2631330e-05, ...,\n",
       "         -3.1194327e-04, -8.0379151e-04, -2.7523580e-04],\n",
       "        [-2.0033418e-04,  3.2887361e-05,  6.5584616e-05, ...,\n",
       "         -3.6273742e-04, -8.3345512e-04, -3.6669115e-04],\n",
       "        ...,\n",
       "        [ 4.2677624e-04,  2.3898857e-03,  5.4977799e-04, ...,\n",
       "          2.3912161e-03,  1.7806871e-03, -5.9821608e-04],\n",
       "        [ 5.3972425e-04,  2.7587353e-03,  6.4418069e-04, ...,\n",
       "          2.7421312e-03,  2.1879694e-03, -5.5360066e-04],\n",
       "        [ 6.6507136e-04,  3.0670096e-03,  7.5482728e-04, ...,\n",
       "          3.0181131e-03,  2.5314789e-03, -5.1144668e-04]],\n",
       "\n",
       "       [[-7.2590018e-07,  5.5863009e-05,  3.2944918e-05, ...,\n",
       "         -2.6253267e-04, -4.9867592e-04, -1.5287944e-04],\n",
       "        [ 1.8191185e-04,  1.5900639e-04,  1.1795407e-04, ...,\n",
       "         -1.7949598e-04, -6.4691482e-04, -4.6321104e-05],\n",
       "        [ 3.6807245e-04,  1.0083471e-04, -6.3324565e-05, ...,\n",
       "         -1.2069142e-04, -5.7490543e-04, -1.5557093e-04],\n",
       "        ...,\n",
       "        [-3.1944946e-04,  1.5244498e-03,  5.6103809e-04, ...,\n",
       "          1.5719942e-03,  1.8677216e-03, -1.4817684e-03],\n",
       "        [-1.8145923e-04,  1.9858121e-03,  6.1848277e-04, ...,\n",
       "          2.1095581e-03,  2.2687400e-03, -1.3513640e-03],\n",
       "        [-1.3350833e-05,  2.3935419e-03,  7.0158468e-04, ...,\n",
       "          2.5412936e-03,  2.6068492e-03, -1.2105185e-03]]], dtype=float32)>"
      ]
     },
     "execution_count": 17,
     "metadata": {},
     "output_type": "execute_result"
    }
   ],
   "source": [
    "for src_sample, tgt_sample in dataset.take(1): break\n",
    "model(src_sample)"
   ]
  },
  {
   "cell_type": "code",
   "execution_count": 18,
   "metadata": {},
   "outputs": [
    {
     "name": "stdout",
     "output_type": "stream",
     "text": [
      "Model: \"text_generator\"\n",
      "_________________________________________________________________\n",
      "Layer (type)                 Output Shape              Param #   \n",
      "=================================================================\n",
      "embedding (Embedding)        multiple                  3072256   \n",
      "_________________________________________________________________\n",
      "lstm (LSTM)                  multiple                  5246976   \n",
      "_________________________________________________________________\n",
      "lstm_1 (LSTM)                multiple                  8392704   \n",
      "_________________________________________________________________\n",
      "dense (Dense)                multiple                  12301025  \n",
      "=================================================================\n",
      "Total params: 29,012,961\n",
      "Trainable params: 29,012,961\n",
      "Non-trainable params: 0\n",
      "_________________________________________________________________\n"
     ]
    }
   ],
   "source": [
    "model.summary()"
   ]
  },
  {
   "cell_type": "code",
   "execution_count": 19,
   "metadata": {},
   "outputs": [
    {
     "name": "stdout",
     "output_type": "stream",
     "text": [
      "Epoch 1/10\n",
      "686/686 [==============================] - 107s 156ms/step - loss: 3.6037\n",
      "Epoch 2/10\n",
      "686/686 [==============================] - 107s 156ms/step - loss: 3.1332\n",
      "Epoch 3/10\n",
      "686/686 [==============================] - 110s 160ms/step - loss: 2.9450\n",
      "Epoch 4/10\n",
      "686/686 [==============================] - 109s 158ms/step - loss: 2.7980\n",
      "Epoch 5/10\n",
      "686/686 [==============================] - 109s 159ms/step - loss: 2.6694\n",
      "Epoch 6/10\n",
      "686/686 [==============================] - 109s 159ms/step - loss: 2.5544\n",
      "Epoch 7/10\n",
      "686/686 [==============================] - 109s 159ms/step - loss: 2.4491\n",
      "Epoch 8/10\n",
      "686/686 [==============================] - 109s 159ms/step - loss: 2.3504\n",
      "Epoch 9/10\n",
      "686/686 [==============================] - 108s 158ms/step - loss: 2.2569\n",
      "Epoch 10/10\n",
      "686/686 [==============================] - 109s 158ms/step - loss: 2.1675\n"
     ]
    },
    {
     "data": {
      "text/plain": [
       "<tensorflow.python.keras.callbacks.History at 0x7f154138ea10>"
      ]
     },
     "execution_count": 19,
     "metadata": {},
     "output_type": "execute_result"
    }
   ],
   "source": [
    "optimizer = tf.keras.optimizers.Adam()\n",
    "loss = tf.keras.losses.SparseCategoricalCrossentropy(\n",
    "    from_logits=True,\n",
    "    reduction='none'\n",
    ")\n",
    "\n",
    "model.compile(loss=loss, optimizer=optimizer)\n",
    "model.fit(dataset, epochs=10)"
   ]
  },
  {
   "cell_type": "markdown",
   "metadata": {},
   "source": [
    "## Step 5. 인공지능 만들기"
   ]
  },
  {
   "cell_type": "code",
   "execution_count": 20,
   "metadata": {},
   "outputs": [],
   "source": [
    "def generate_text(model, tokenizer, init_sentence=\"<start>\", max_len=20):\n",
    "    # 테스트를 위해서 입력받은 init_sentence도 일단 텐서로 변환합니다.\n",
    "    test_input = tokenizer.texts_to_sequences([init_sentence])\n",
    "    test_tensor = tf.convert_to_tensor(test_input, dtype=tf.int64)\n",
    "    end_token = tokenizer.word_index[\"<end>\"]\n",
    "\n",
    "    # 텍스트를 실제로 생성할때는 루프를 돌면서 단어 하나씩 생성해야 합니다. \n",
    "    while True:\n",
    "        predict = model(test_tensor)  # 입력받은 문장의 텐서를 입력합니다. \n",
    "        predict_word = tf.argmax(tf.nn.softmax(predict, axis=-1), axis=-1)[:, -1]   # 우리 모델이 예측한 마지막 단어가 바로 새롭게 생성한 단어가 됩니다. \n",
    "\n",
    "        # 우리 모델이 새롭게 예측한 단어를 입력 문장의 뒤에 붙여 줍니다. \n",
    "        test_tensor = tf.concat([test_tensor, \n",
    "\t\t\t\t\t\t\t\t\t\t\t\t\t\t\t\t tf.expand_dims(predict_word, axis=0)], axis=-1)\n",
    "\n",
    "        # 우리 모델이 <end>를 예측했거나, max_len에 도달하지 않았다면  while 루프를 또 돌면서 다음 단어를 예측해야 합니다.\n",
    "        if predict_word.numpy()[0] == end_token: break\n",
    "        if test_tensor.shape[1] >= max_len: break\n",
    "\n",
    "    generated = \"\"\n",
    "    # 생성된 tensor 안에 있는 word index를 tokenizer.index_word 사전을 통해 실제 단어로 하나씩 변환합니다. \n",
    "    for word_index in test_tensor[0].numpy():\n",
    "        generated += tokenizer.index_word[word_index] + \" \"\n",
    "\n",
    "    return generated   # 이것이 최종적으로 모델이 생성한 자연어 문장입니다."
   ]
  },
  {
   "cell_type": "code",
   "execution_count": 22,
   "metadata": {},
   "outputs": [
    {
     "data": {
      "text/plain": [
       "'<start> i love you , i love you <end> '"
      ]
     },
     "execution_count": 22,
     "metadata": {},
     "output_type": "execute_result"
    }
   ],
   "source": [
    "generate_text(model, tokenizer, init_sentence=\"<start> i love\", max_len=20)"
   ]
  },
  {
   "cell_type": "markdown",
   "metadata": {},
   "source": [
    "## 회고"
   ]
  },
  {
   "cell_type": "markdown",
   "metadata": {},
   "source": [
    "고칠게 많지 않아서 따라가기 수월했고, 재미있었다.     \n",
    "확실히 뭔가 할수 있구나가 보여야 재미가 붙는 것 같다.     \n",
    "그리고 진짜 신기한건 정말로 누군가가 써 준것 마냥 뭔가 감정이 있는 느낌의 가사를 작사해준다.    \n",
    "약간 시적인 느낌이다.     \n",
    "뭔가 지금까지 이렇게 와닿은 노드는 없었는데 내 길을 찾은건지 조금 더 생각해 봐야겠다."
   ]
  }
 ],
 "metadata": {
  "kernelspec": {
   "display_name": "Python 3",
   "language": "python",
   "name": "python3"
  },
  "language_info": {
   "codemirror_mode": {
    "name": "ipython",
    "version": 3
   },
   "file_extension": ".py",
   "mimetype": "text/x-python",
   "name": "python",
   "nbconvert_exporter": "python",
   "pygments_lexer": "ipython3",
   "version": "3.7.6"
  }
 },
 "nbformat": 4,
 "nbformat_minor": 4
}
